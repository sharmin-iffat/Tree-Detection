{
  "nbformat": 4,
  "nbformat_minor": 0,
  "metadata": {
    "colab": {
      "provenance": [],
      "gpuType": "T4"
    },
    "kernelspec": {
      "name": "python3",
      "display_name": "Python 3"
    },
    "language_info": {
      "name": "python"
    },
    "accelerator": "GPU"
  },
  "cells": [
    {
      "cell_type": "code",
      "execution_count": null,
      "metadata": {
        "collapsed": true,
        "id": "7CBDDQt_7DvP"
      },
      "outputs": [],
      "source": [
        "!pip install ultralytics"
      ]
    },
    {
      "cell_type": "code",
      "source": [
        "import ultralytics\n",
        "ultralytics.checks()"
      ],
      "metadata": {
        "colab": {
          "base_uri": "https://localhost:8080/"
        },
        "id": "Z1Xfbt858ab6",
        "outputId": "e792b6fa-4342-4b60-cd47-34df528fcc4e"
      },
      "execution_count": 8,
      "outputs": [
        {
          "output_type": "stream",
          "name": "stdout",
          "text": [
            "Ultralytics 8.3.168 🚀 Python-3.11.13 torch-2.6.0+cu124 CPU (Intel Xeon 2.20GHz)\n",
            "Setup complete ✅ (2 CPUs, 12.7 GB RAM, 41.9/107.7 GB disk)\n"
          ]
        }
      ]
    },
    {
      "cell_type": "code",
      "source": [
        "from ultralytics import YOLO\n",
        "\n",
        "model = YOLO(\"yolov8n.pt\")\n",
        "\n",
        "results = model.train(\n",
        "    data= \"/content/drive/MyDrive/newSplitDataset/data.yaml\",\n",
        "    epochs=50,\n",
        "    imgsz=640,\n",
        "    batch=16,\n",
        "    name=\"custom_tree_detector\",\n",
        "    project=\"runs/train\"\n",
        ")\n",
        "print(\"✅ Training complete.\")\n",
        "print(results)"
      ],
      "metadata": {
        "id": "5MPuS5ZMCPq-",
        "collapsed": true
      },
      "execution_count": null,
      "outputs": []
    },
    {
      "cell_type": "code",
      "source": [
        "import os\n",
        "\n",
        "base_dir = 'runs/train'\n",
        "\n",
        "if os.path.exists(base_dir):\n",
        "    runs = [os.path.join(base_dir, d) for d in os.listdir(base_dir)]\n",
        "    latest_run = max(runs, key=os.path.getmtime)\n",
        "    print(\"🟢 Latest training run folder:\", latest_run)\n",
        "else:\n",
        "    print(\"❌ No training runs found.\")\n"
      ],
      "metadata": {
        "colab": {
          "base_uri": "https://localhost:8080/"
        },
        "id": "aXs35hWgGuBA",
        "outputId": "343eeaa8-3a15-4e66-b95c-3cf4a0a4946a"
      },
      "execution_count": 10,
      "outputs": [
        {
          "output_type": "stream",
          "name": "stdout",
          "text": [
            "🟢 Latest training run folder: runs/train/custom_tree_detector\n"
          ]
        }
      ]
    },
    {
      "cell_type": "code",
      "source": [
        "import os\n",
        "\n",
        "# Replace this with your actual training folder path\n",
        "output_folder = 'runs/train/custom_tree_detector'\n",
        "\n",
        "# List contents of the folder\n",
        "files = os.listdir(output_folder)\n",
        "print(\"📁 Contents of the training folder:\")\n",
        "for f in files:\n",
        "    print(\" -\", f)\n"
      ],
      "metadata": {
        "id": "oYopVDvwG4S2"
      },
      "execution_count": null,
      "outputs": []
    },
    {
      "cell_type": "code",
      "source": [
        "import cv2\n",
        "import os\n",
        "from google.colab.patches import cv2_imshow\n",
        "\n",
        "# ==== CONFIGURATION ====\n",
        "img_path = \"/content/drive/MyDrive/splitted_dataset_forYOLOv8/images/train/DJI_0128.jpg\"\n",
        "label_path = \"/content/drive/MyDrive/splitted_dataset_forYOLOv8/labels/train/DJI_0128.txt\"\n",
        "output_path = \"/content/annotated_image.jpg\"\n",
        "\n",
        "# ==== LOAD IMAGE ====\n",
        "img = cv2.imread(img_path)\n",
        "if img is None:\n",
        "    raise FileNotFoundError(f\"Image not found: {img_path}\")\n",
        "h, w = img.shape[:2]\n",
        "\n",
        "# ==== LOAD ANNOTATIONS ====\n",
        "with open(label_path, 'r') as f:\n",
        "    lines = f.readlines()\n",
        "\n",
        "# ==== DRAW BOUNDING BOXES ====\n",
        "for line in lines:\n",
        "    parts = line.strip().split()\n",
        "    if len(parts) != 5:\n",
        "        continue\n",
        "\n",
        "    class_id, xc, yc, bw, bh = map(float, parts)\n",
        "    x1 = int((xc - bw / 2) * w)\n",
        "    y1 = int((yc - bh / 2) * h)\n",
        "    x2 = int((xc + bw / 2) * w)\n",
        "    y2 = int((yc + bh / 2) * h)\n",
        "\n",
        "    # Draw rectangle\n",
        "    cv2.rectangle(img, (x1, y1), (x2, y2), (0, 255, 0), 2)\n",
        "    # Optionally put class label\n",
        "    cv2.putText(img, f\"Class {int(class_id)}\", (x1, y1 - 5),\n",
        "                cv2.FONT_HERSHEY_SIMPLEX, 0.5, (0, 255, 0), 1)\n",
        "\n",
        "\n",
        "\n",
        "    # Show image\n",
        "cv2_imshow(img)\n",
        "\n",
        "\n",
        "# ==== SAVE ANNOTATED IMAGE ====\n",
        "cv2.imwrite(output_path, img)\n",
        "print()\n",
        "print(f\"✅ Annotated image saved to: {output_path}\")"
      ],
      "metadata": {
        "id": "UgUWUn_ydCop"
      },
      "execution_count": null,
      "outputs": []
    },
    {
      "cell_type": "code",
      "source": [
        "from ultralytics import YOLO\n",
        "import os\n",
        "\n",
        "# ==== CONFIGURATION ====\n",
        "model_path = \"/content/runs/train/custom_tree_detector/weights/best.pt\"\n",
        "frames_folder = \"/content/drive/MyDrive/splitted_dataset_forYOLOv8/images/train\"\n",
        "output_folder = \"/content/inference_output\"\n",
        "\n",
        "# ==== LOAD MODEL ====\n",
        "model = YOLO(model_path)\n",
        "\n",
        "# ==== RUN INFERENCE ====\n",
        "results = model.predict(\n",
        "    source=frames_folder,\n",
        "    save=True,\n",
        "    save_txt=True,\n",
        "    project=output_folder,\n",
        "    name='run'\n",
        ")\n",
        "\n",
        "print(\"✅ Inference completed. Check:\", os.path.join(output_folder, 'run'))\n"
      ],
      "metadata": {
        "id": "6CSevKNfqiTk"
      },
      "execution_count": null,
      "outputs": []
    }
  ]
}