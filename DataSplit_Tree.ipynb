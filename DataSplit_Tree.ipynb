{
 "cells": [
  {
   "cell_type": "code",
   "execution_count": 1,
   "id": "4b52f821-8876-4230-8c34-9184f88a5619",
   "metadata": {},
   "outputs": [
    {
     "name": "stdout",
     "output_type": "stream",
     "text": [
      "✅ Combined all images and labels into one folder.\n"
     ]
    }
   ],
   "source": [
    "import os\n",
    "import shutil\n",
    "\n",
    "# Your original CVAT export location \n",
    "base_dir = r\"C:/Users/iffat/Downloads/job_8_dataset_2025_07_10_12_35_49_ultralytics yolo detection 1.0\"\n",
    "\n",
    "# Original train folder from CVAT\n",
    "images_train = os.path.join(base_dir, \"images/train\")\n",
    "labels_train = os.path.join(base_dir, \"labels/train\")\n",
    "\n",
    "# Combined folders to prepare for split\n",
    "combined_images = os.path.join(base_dir, \"combined/images\")\n",
    "combined_labels = os.path.join(base_dir, \"combined/labels\")\n",
    "os.makedirs(combined_images, exist_ok=True)\n",
    "os.makedirs(combined_labels, exist_ok=True)\n",
    "\n",
    "# Copy images and labels from train/\n",
    "for file in os.listdir(images_train):\n",
    "    shutil.copy(os.path.join(images_train, file), combined_images)\n",
    "\n",
    "for file in os.listdir(labels_train):\n",
    "    shutil.copy(os.path.join(labels_train, file), combined_labels)\n",
    "\n",
    "print(\"✅ Combined all images and labels into one folder.\")\n"
   ]
  },
  {
   "cell_type": "code",
   "execution_count": 2,
   "id": "be61e7af-72ee-4ee4-9cdb-27f29dc9a7d7",
   "metadata": {},
   "outputs": [
    {
     "name": "stdout",
     "output_type": "stream",
     "text": [
      "Total: 30, Train: 24, Val: 6\n"
     ]
    }
   ],
   "source": [
    "import random\n",
    "\n",
    "# Paths from combined folder\n",
    "images_dir = os.path.join(base_dir, \"combined/images\")\n",
    "labels_dir = os.path.join(base_dir, \"combined/labels\")\n",
    "\n",
    "# Output folder\n",
    "output_base = os.path.join(base_dir, \"my_yolo_dataset\")\n",
    "\n",
    "# Create final folders\n",
    "for split in ['train', 'val']:\n",
    "    os.makedirs(f\"{output_base}/images/{split}\", exist_ok=True)\n",
    "    os.makedirs(f\"{output_base}/labels/{split}\", exist_ok=True)\n",
    "\n",
    "# List and shuffle image files\n",
    "image_files = [f for f in os.listdir(images_dir) if f.lower().endswith(('.jpg', '.jpeg', '.png'))]\n",
    "random.shuffle(image_files)\n",
    "\n",
    "# Split 80% train / 20% val\n",
    "split_idx = int(0.8 * len(image_files))\n",
    "train_files = image_files[:split_idx]\n",
    "val_files = image_files[split_idx:]\n",
    "\n",
    "print(f\"Total: {len(image_files)}, Train: {len(train_files)}, Val: {len(val_files)}\")\n"
   ]
  },
  {
   "cell_type": "code",
   "execution_count": 3,
   "id": "639bfaf3-b0f6-429f-b518-3a36ab84ede8",
   "metadata": {},
   "outputs": [
    {
     "name": "stdout",
     "output_type": "stream",
     "text": [
      "✅ Files moved to train/val folders.\n"
     ]
    }
   ],
   "source": [
    "def move_files(file_list, split):\n",
    "    for img_name in file_list:\n",
    "        base = os.path.splitext(img_name)[0]\n",
    "        label_name = base + '.txt'\n",
    "\n",
    "        img_src = os.path.join(images_dir, img_name)\n",
    "        lbl_src = os.path.join(labels_dir, label_name)\n",
    "\n",
    "        img_dst = os.path.join(output_base, 'images', split, img_name)\n",
    "        lbl_dst = os.path.join(output_base, 'labels', split, label_name)\n",
    "\n",
    "        if os.path.exists(img_src):\n",
    "            shutil.copy(img_src, img_dst)\n",
    "        if os.path.exists(lbl_src):\n",
    "            shutil.copy(lbl_src, lbl_dst)\n",
    "\n",
    "move_files(train_files, 'train')\n",
    "move_files(val_files, 'val')\n",
    "\n",
    "print(\"✅ Files moved to train/val folders.\")\n"
   ]
  },
  {
   "cell_type": "code",
   "execution_count": null,
   "id": "878985ef-50d2-4fda-bca2-ba67818446f9",
   "metadata": {},
   "outputs": [
    {
     "name": "stdout",
     "output_type": "stream",
     "text": [
      "✅ data.yaml created at: C:/Users/iffat/Downloads/job_8_dataset_2025_07_10_12_35_49_ultralytics yolo detection 1.0\\my_yolo_dataset\\data.yaml\n"
     ]
    }
   ],
   "source": [
    "yaml_path = os.path.join(output_base, 'data.yaml')\n",
    "with open(yaml_path, 'w') as f:\n",
    "    f.write(\"train: images/train\\n\")\n",
    "    f.write(\"val: images/val\\n\\n\")\n",
    "    f.write(\"nc: 1\\n\")  \n",
    "    f.write(\"names: ['tree']\\n\")\n",
    "\n",
    "print(f\"✅ data.yaml created at: {yaml_path}\")\n"
   ]
  },
  {
   "cell_type": "code",
   "execution_count": null,
   "id": "24c1f3e3-5217-4585-80f6-5498e8af0621",
   "metadata": {},
   "outputs": [],
   "source": []
  }
 ],
 "metadata": {
  "kernelspec": {
   "display_name": "Python 3 (ipykernel)",
   "language": "python",
   "name": "python3"
  },
  "language_info": {
   "codemirror_mode": {
    "name": "ipython",
    "version": 3
   },
   "file_extension": ".py",
   "mimetype": "text/x-python",
   "name": "python",
   "nbconvert_exporter": "python",
   "pygments_lexer": "ipython3",
   "version": "3.12.7"
  }
 },
 "nbformat": 4,
 "nbformat_minor": 5
}
